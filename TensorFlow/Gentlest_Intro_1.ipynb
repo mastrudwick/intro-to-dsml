{
 "cells": [
  {
   "cell_type": "code",
   "execution_count": null,
   "metadata": {
    "collapsed": true
   },
   "outputs": [],
   "source": [
    "import numpy as np\n",
    "import tensorflow as tf"
   ]
  },
  {
   "cell_type": "code",
   "execution_count": null,
   "metadata": {
    "collapsed": true
   },
   "outputs": [],
   "source": [
    "# Model linear regression y = Wx + b\n",
    "x = tf.placeholder(tf.float32, [None, 1])\n",
    "W = tf.Variable(tf.zeros([1,1]))\n",
    "b = tf.Variable(tf.zeros([1]))\n",
    "\n",
    "product = tf.matmul(x,W)\n",
    "y = product + b\n",
    "y_ = tf.placeholder(tf.float32, [None, 1])"
   ]
  },
  {
   "cell_type": "code",
   "execution_count": null,
   "metadata": {
    "collapsed": true
   },
   "outputs": [],
   "source": [
    "# Cost function sum((y_-y)**2)\n",
    "cost = tf.reduce_mean(tf.square(y_-y))"
   ]
  },
  {
   "cell_type": "code",
   "execution_count": null,
   "metadata": {
    "collapsed": true
   },
   "outputs": [],
   "source": [
    "# Training using Gradient Descent to minimize cost\n",
    "train_step = tf.train.GradientDescentOptimizer(0.0000001).minimize(cost)"
   ]
  },
  {
   "cell_type": "code",
   "execution_count": null,
   "metadata": {
    "collapsed": true
   },
   "outputs": [],
   "source": [
    "sess = tf.Session()\n",
    "init = tf.initialize_all_variables()\n",
    "sess.run(init)\n",
    "steps = 1000\n",
    "for i in range(steps):\n",
    "  # Create fake data for y = W.x + b where W = 2, b = 0\n",
    "  xs = np.array([[i]])\n",
    "  ys = np.array([[2*i]])\n",
    "  # Train\n",
    "  feed = { x: xs, y_: ys }\n",
    "\n",
    "  sess.run(train_step, feed_dict=feed)\n",
    "  print(\"After %d iteration:\" % i)\n",
    "  print(\"W: %f\" % sess.run(W))\n",
    "  print(\"b: %f\" % sess.run(b))\n",
    "  # Suggested by @jihobak\n",
    "  print(\"cost: %f\" % sess.run(cost, feed_dict=feed))\n",
    "\n",
    "# NOTE: W should be close to 2, and b should be close to 0"
   ]
  }
 ],
 "metadata": {
  "anaconda-cloud": {},
  "kernelspec": {
   "display_name": "Python [conda root]",
   "language": "python",
   "name": "conda-root-py"
  },
  "language_info": {
   "codemirror_mode": {
    "name": "ipython",
    "version": 3
   },
   "file_extension": ".py",
   "mimetype": "text/x-python",
   "name": "python",
   "nbconvert_exporter": "python",
   "pygments_lexer": "ipython3",
   "version": "3.5.2"
  }
 },
 "nbformat": 4,
 "nbformat_minor": 1
}
