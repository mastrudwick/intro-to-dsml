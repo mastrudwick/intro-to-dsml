{
 "cells": [
  {
   "cell_type": "code",
   "execution_count": 1,
   "metadata": {
    "collapsed": true
   },
   "outputs": [],
   "source": [
    "import numpy as np\n",
    "import tensorflow as tf"
   ]
  },
  {
   "cell_type": "code",
   "execution_count": 2,
   "metadata": {
    "collapsed": true
   },
   "outputs": [],
   "source": [
    "# CUSTOMIZABLE: Collect/Prepare data\n",
    "datapoint_size = 1000\n",
    "batch_size = 5\n",
    "steps = 10000\n",
    "actual_W = 2\n",
    "actual_b = 10\n",
    "learn_rate = 0.001\n",
    "log_file = \"/tmp/feature_1_batch_1\""
   ]
  },
  {
   "cell_type": "code",
   "execution_count": 3,
   "metadata": {
    "collapsed": false
   },
   "outputs": [
    {
     "name": "stdout",
     "output_type": "stream",
     "text": [
      "Tensor(\"x:0\", shape=(?, 1), dtype=float32)\n",
      "<tf.Variable 'W:0' shape=(1, 1) dtype=float32_ref>\n",
      "<tf.Variable 'b:0' shape=(1,) dtype=float32_ref>\n"
     ]
    }
   ],
   "source": [
    "# Model linear regression y = Wx + b\n",
    "x = tf.placeholder(tf.float32, [None, 1], name=\"x\")\n",
    "W = tf.Variable(tf.zeros([1,1]), name=\"W\")\n",
    "b = tf.Variable(tf.zeros([1]), name=\"b\")\n",
    "\n",
    "print(x)\n",
    "print(W)\n",
    "print(b)"
   ]
  },
  {
   "cell_type": "code",
   "execution_count": 4,
   "metadata": {
    "collapsed": false
   },
   "outputs": [
    {
     "name": "stdout",
     "output_type": "stream",
     "text": [
      "Tensor(\"Wx_b/MatMul:0\", shape=(?, 1), dtype=float32)\n",
      "Tensor(\"Wx_b/add:0\", shape=(?, 1), dtype=float32)\n"
     ]
    }
   ],
   "source": [
    "with tf.name_scope(\"Wx_b\") as scope:\n",
    "    product = tf.matmul(x,W)\n",
    "    y = product + b\n",
    "    \n",
    "print(product)\n",
    "print(y)"
   ]
  },
  {
   "cell_type": "code",
   "execution_count": 5,
   "metadata": {
    "collapsed": false
   },
   "outputs": [
    {
     "name": "stdout",
     "output_type": "stream",
     "text": [
      "Tensor(\"weights:0\", shape=(), dtype=string)\n",
      "Tensor(\"biases:0\", shape=(), dtype=string)\n",
      "Tensor(\"y:0\", shape=(), dtype=string)\n"
     ]
    }
   ],
   "source": [
    "# Add summary ops to collect data\n",
    "W_hist = tf.summary.histogram(\"weights\", W)\n",
    "b_hist = tf.summary.histogram(\"biases\", b)\n",
    "y_hist = tf.summary.histogram(\"y\", y)\n",
    "\n",
    "print(W_hist)\n",
    "print(b_hist)\n",
    "print(y_hist)"
   ]
  },
  {
   "cell_type": "code",
   "execution_count": 6,
   "metadata": {
    "collapsed": false
   },
   "outputs": [
    {
     "name": "stdout",
     "output_type": "stream",
     "text": [
      "Tensor(\"y_:0\", shape=(?, 1), dtype=float32)\n"
     ]
    }
   ],
   "source": [
    "y_ = tf.placeholder(tf.float32, [None, 1], name=\"y_\")\n",
    "print(y_)"
   ]
  },
  {
   "cell_type": "code",
   "execution_count": 7,
   "metadata": {
    "collapsed": false
   },
   "outputs": [
    {
     "name": "stdout",
     "output_type": "stream",
     "text": [
      "Tensor(\"cost/Mean:0\", shape=(), dtype=float32)\n",
      "Tensor(\"cost/cost:0\", shape=(), dtype=string)\n"
     ]
    }
   ],
   "source": [
    "# Cost function sum((y_-y)**2)\n",
    "with tf.name_scope(\"cost\") as scope:\n",
    "    cost = tf.reduce_mean(tf.square(y_-y))\n",
    "    cost_sum = tf.summary.scalar(\"cost\", cost)\n",
    "    \n",
    "print(cost)\n",
    "print(cost_sum)"
   ]
  },
  {
   "cell_type": "code",
   "execution_count": 8,
   "metadata": {
    "collapsed": false
   },
   "outputs": [
    {
     "name": "stdout",
     "output_type": "stream",
     "text": [
      "name: \"train/GradientDescent\"\n",
      "op: \"NoOp\"\n",
      "input: \"^train/GradientDescent/update_W/ApplyGradientDescent\"\n",
      "input: \"^train/GradientDescent/update_b/ApplyGradientDescent\"\n",
      "\n"
     ]
    }
   ],
   "source": [
    "# Training using Gradient Descent to minimize cost\n",
    "with tf.name_scope(\"train\") as scope:\n",
    "    train_step = tf.train.GradientDescentOptimizer(learn_rate).minimize(cost)\n",
    "\n",
    "print(train_step)"
   ]
  },
  {
   "cell_type": "code",
   "execution_count": 9,
   "metadata": {
    "collapsed": false
   },
   "outputs": [
    {
     "name": "stdout",
     "output_type": "stream",
     "text": [
      "<class 'list'>\n",
      "<class 'list'>\n"
     ]
    }
   ],
   "source": [
    "all_xs = []\n",
    "all_ys = []\n",
    "for i in range(datapoint_size):\n",
    "    # Create fake data for y = W.x + b where W = 2, b = actual_b\n",
    "    all_xs.append(i%10)\n",
    "    all_ys.append(actual_W*(i%10)+actual_b)\n",
    "    \n",
    "print(type(all_xs))\n",
    "print(type(all_ys))"
   ]
  },
  {
   "cell_type": "code",
   "execution_count": 10,
   "metadata": {
    "collapsed": false,
    "scrolled": true
   },
   "outputs": [
    {
     "name": "stdout",
     "output_type": "stream",
     "text": [
      "(1000, 1)\n",
      "(1000, 1)\n"
     ]
    }
   ],
   "source": [
    "all_xs = np.transpose([all_xs])\n",
    "all_ys = np.transpose([all_ys])\n",
    "\n",
    "print(all_xs.shape)\n",
    "print(all_ys.shape)"
   ]
  },
  {
   "cell_type": "code",
   "execution_count": 11,
   "metadata": {
    "collapsed": false
   },
   "outputs": [
    {
     "name": "stdout",
     "output_type": "stream",
     "text": [
      "WARNING:tensorflow:From <ipython-input-11-2e8312833cf3>:3: initialize_all_variables (from tensorflow.python.ops.variables) is deprecated and will be removed after 2017-03-02.\n",
      "Instructions for updating:\n",
      "Use `tf.global_variables_initializer` instead.\n"
     ]
    }
   ],
   "source": [
    "sess = tf.Session()\n",
    "\n",
    "init = tf.initialize_all_variables()\n",
    "sess.run(init)"
   ]
  },
  {
   "cell_type": "code",
   "execution_count": 12,
   "metadata": {
    "collapsed": false
   },
   "outputs": [
    {
     "name": "stdout",
     "output_type": "stream",
     "text": [
      "WARNING:tensorflow:Passing a `GraphDef` to the SummaryWriter is deprecated. Pass a `Graph` object instead, such as `sess.graph`.\n"
     ]
    }
   ],
   "source": [
    "# Merge all the summaries and write them out to /tmp/mnist_logs\n",
    "merged = tf.summary.merge_all()\n",
    "writer = tf.summary.FileWriter(log_file, sess.graph_def)"
   ]
  },
  {
   "cell_type": "code",
   "execution_count": 17,
   "metadata": {
    "collapsed": false
   },
   "outputs": [
    {
     "name": "stdout",
     "output_type": "stream",
     "text": [
      "1000\n",
      "5\n"
     ]
    }
   ],
   "source": [
    "print(datapoint_size)\n",
    "print(batch_size)"
   ]
  },
  {
   "cell_type": "code",
   "execution_count": 21,
   "metadata": {
    "collapsed": false
   },
   "outputs": [],
   "source": [
    "steps = 20"
   ]
  },
  {
   "cell_type": "code",
   "execution_count": 22,
   "metadata": {
    "collapsed": false
   },
   "outputs": [
    {
     "name": "stdout",
     "output_type": "stream",
     "text": [
      "[[0]\n",
      " [1]\n",
      " [2]\n",
      " [3]\n",
      " [4]]\n",
      "[[10]\n",
      " [12]\n",
      " [14]\n",
      " [16]\n",
      " [18]]\n",
      "After 0 iteration:\n",
      "W: 0.760529\n",
      "b: 0.141672\n",
      "[[5]\n",
      " [6]\n",
      " [7]\n",
      " [8]\n",
      " [9]]\n",
      "[[20]\n",
      " [22]\n",
      " [24]\n",
      " [26]\n",
      " [28]]\n",
      "y: [[ 5.30359888]\n",
      " [ 6.32857037]\n",
      " [ 7.35354185]\n",
      " [ 8.37851334]\n",
      " [ 9.40348434]]\n",
      "y_: [[20]\n",
      " [22]\n",
      " [24]\n",
      " [26]\n",
      " [28]]\n",
      "cost: 279.005920\n",
      "After 1 iteration:\n",
      "W: 1.024971\n",
      "b: 0.178741\n",
      "[[0]\n",
      " [1]\n",
      " [2]\n",
      " [3]\n",
      " [4]]\n",
      "[[10]\n",
      " [12]\n",
      " [14]\n",
      " [16]\n",
      " [18]]\n",
      "y: [[ 0.20228402]\n",
      " [ 1.2782408 ]\n",
      " [ 2.35419774]\n",
      " [ 3.43015456]\n",
      " [ 4.50611115]]\n",
      "y_: [[10]\n",
      " [12]\n",
      " [14]\n",
      " [16]\n",
      " [18]]\n",
      "cost: 137.332428\n",
      "After 2 iteration:\n",
      "W: 1.075957\n",
      "b: 0.202284\n",
      "[[5]\n",
      " [6]\n",
      " [7]\n",
      " [8]\n",
      " [9]]\n",
      "[[20]\n",
      " [22]\n",
      " [24]\n",
      " [26]\n",
      " [28]]\n",
      "y: [[  6.77170229]\n",
      " [  8.07907867]\n",
      " [  9.38645649]\n",
      " [ 10.69383335]\n",
      " [ 12.00121021]]\n",
      "y_: [[20]\n",
      " [22]\n",
      " [24]\n",
      " [26]\n",
      " [28]]\n",
      "cost: 214.515137\n",
      "After 3 iteration:\n",
      "W: 1.307377\n",
      "b: 0.234816\n",
      "[[0]\n",
      " [1]\n",
      " [2]\n",
      " [3]\n",
      " [4]]\n",
      "[[10]\n",
      " [12]\n",
      " [14]\n",
      " [16]\n",
      " [18]]\n",
      "y: [[ 0.25711691]\n",
      " [ 1.61186635]\n",
      " [ 2.96661568]\n",
      " [ 4.32136488]\n",
      " [ 5.67611456]]\n",
      "y_: [[10]\n",
      " [12]\n",
      " [14]\n",
      " [16]\n",
      " [18]]\n",
      "cost: 122.568268\n",
      "After 4 iteration:\n",
      "W: 1.354749\n",
      "b: 0.257117\n",
      "[[5]\n",
      " [6]\n",
      " [7]\n",
      " [8]\n",
      " [9]]\n",
      "[[20]\n",
      " [22]\n",
      " [24]\n",
      " [26]\n",
      " [28]]\n",
      "y: [[  8.07046318]\n",
      " [  9.62742805]\n",
      " [ 11.18439388]\n",
      " [ 12.74135876]\n",
      " [ 14.29832363]]\n",
      "y_: [[20]\n",
      " [22]\n",
      " [24]\n",
      " [26]\n",
      " [28]]\n",
      "cost: 164.632324\n",
      "After 5 iteration:\n",
      "W: 1.556965\n",
      "b: 0.285636\n",
      "[[0]\n",
      " [1]\n",
      " [2]\n",
      " [3]\n",
      " [4]]\n",
      "[[10]\n",
      " [12]\n",
      " [14]\n",
      " [16]\n",
      " [18]]\n",
      "y: [[ 0.30683705]\n",
      " [ 1.90797627]\n",
      " [ 3.50911546]\n",
      " [ 5.11025476]\n",
      " [ 6.71139383]]\n",
      "y_: [[10]\n",
      " [12]\n",
      " [14]\n",
      " [16]\n",
      " [18]]\n",
      "cost: 110.376846\n",
      "After 6 iteration:\n",
      "W: 1.601139\n",
      "b: 0.306837\n",
      "[[5]\n",
      " [6]\n",
      " [7]\n",
      " [8]\n",
      " [9]]\n",
      "[[20]\n",
      " [22]\n",
      " [24]\n",
      " [26]\n",
      " [28]]\n",
      "y: [[  9.21944332]\n",
      " [ 10.99697113]\n",
      " [ 12.77449894]\n",
      " [ 14.55202579]\n",
      " [ 16.3295536 ]]\n",
      "y_: [[20]\n",
      " [22]\n",
      " [24]\n",
      " [26]\n",
      " [28]]\n",
      "cost: 126.110878\n",
      "After 7 iteration:\n",
      "W: 1.777527\n",
      "b: 0.331807\n",
      "[[0]\n",
      " [1]\n",
      " [2]\n",
      " [3]\n",
      " [4]]\n",
      "[[10]\n",
      " [12]\n",
      " [14]\n",
      " [16]\n",
      " [18]]\n",
      "y: [[ 0.3520337 ]\n",
      " [ 2.17090344]\n",
      " [ 3.98977327]\n",
      " [ 5.80864334]\n",
      " [ 7.62751293]]\n",
      "y_: [[10]\n",
      " [12]\n",
      " [14]\n",
      " [16]\n",
      " [18]]\n",
      "cost: 100.270256\n",
      "After 8 iteration:\n",
      "W: 1.818870\n",
      "b: 0.352034\n",
      "[[5]\n",
      " [6]\n",
      " [7]\n",
      " [8]\n",
      " [9]]\n",
      "[[20]\n",
      " [22]\n",
      " [24]\n",
      " [26]\n",
      " [28]]\n",
      "y: [[ 10.23594856]\n",
      " [ 12.20836449]\n",
      " [ 14.18078136]\n",
      " [ 16.15319824]\n",
      " [ 18.12561417]]\n",
      "y_: [[20]\n",
      " [22]\n",
      " [24]\n",
      " [26]\n",
      " [28]]\n",
      "cost: 96.418579\n",
      "After 9 iteration:\n",
      "W: 1.972417\n",
      "b: 0.373865\n",
      "[[0]\n",
      " [1]\n",
      " [2]\n",
      " [3]\n",
      " [4]]\n",
      "[[10]\n",
      " [12]\n",
      " [14]\n",
      " [16]\n",
      " [18]]\n",
      "After 10 iteration:\n",
      "W: 1.972417\n",
      "b: 0.373865\n",
      "[[5]\n",
      " [6]\n",
      " [7]\n",
      " [8]\n",
      " [9]]\n",
      "[[20]\n",
      " [22]\n",
      " [24]\n",
      " [26]\n",
      " [28]]\n",
      "y: [[ 10.94348431]\n",
      " [ 13.0534811 ]\n",
      " [ 15.16347694]\n",
      " [ 17.27347183]\n",
      " [ 19.38346863]]\n",
      "y_: [[20]\n",
      " [22]\n",
      " [24]\n",
      " [26]\n",
      " [28]]\n",
      "cost: 78.108345\n",
      "After 11 iteration:\n",
      "W: 2.109996\n",
      "b: 0.393504\n",
      "[[0]\n",
      " [1]\n",
      " [2]\n",
      " [3]\n",
      " [4]]\n",
      "[[10]\n",
      " [12]\n",
      " [14]\n",
      " [16]\n",
      " [18]]\n",
      "y: [[ 0.41227692]\n",
      " [ 2.5593791 ]\n",
      " [ 4.70648098]\n",
      " [ 6.85358286]\n",
      " [ 9.00068569]]\n",
      "y_: [[10]\n",
      " [12]\n",
      " [14]\n",
      " [16]\n",
      " [18]]\n",
      "cost: 86.412766\n",
      "After 12 iteration:\n",
      "W: 2.147102\n",
      "b: 0.412277\n",
      "[[5]\n",
      " [6]\n",
      " [7]\n",
      " [8]\n",
      " [9]]\n",
      "[[20]\n",
      " [22]\n",
      " [24]\n",
      " [26]\n",
      " [28]]\n",
      "y: [[ 11.76102161]\n",
      " [ 14.02734661]\n",
      " [ 16.29367256]\n",
      " [ 18.55999947]\n",
      " [ 20.82632446]]\n",
      "y_: [[20]\n",
      " [22]\n",
      " [24]\n",
      " [26]\n",
      " [28]]\n",
      "cost: 59.529335\n",
      "After 13 iteration:\n",
      "W: 2.266326\n",
      "b: 0.429393\n",
      "[[0]\n",
      " [1]\n",
      " [2]\n",
      " [3]\n",
      " [4]]\n",
      "[[10]\n",
      " [12]\n",
      " [14]\n",
      " [16]\n",
      " [18]]\n",
      "y: [[ 0.44746885]\n",
      " [ 2.7488811 ]\n",
      " [ 5.05029345]\n",
      " [ 7.35170555]\n",
      " [ 9.65311813]]\n",
      "y_: [[10]\n",
      " [12]\n",
      " [14]\n",
      " [16]\n",
      " [18]]\n",
      "cost: 80.278954\n",
      "After 14 iteration:\n",
      "W: 2.301412\n",
      "b: 0.447469\n",
      "[[5]\n",
      " [6]\n",
      " [7]\n",
      " [8]\n",
      " [9]]\n",
      "[[20]\n",
      " [22]\n",
      " [24]\n",
      " [26]\n",
      " [28]]\n",
      "y: [[ 12.48437214]\n",
      " [ 14.88877583]\n",
      " [ 17.29318047]\n",
      " [ 19.69758415]\n",
      " [ 22.10198784]]\n",
      "y_: [[20]\n",
      " [22]\n",
      " [24]\n",
      " [26]\n",
      " [28]]\n",
      "cost: 45.308517\n",
      "After 15 iteration:\n",
      "W: 2.404404\n",
      "b: 0.462354\n",
      "[[0]\n",
      " [1]\n",
      " [2]\n",
      " [3]\n",
      " [4]]\n",
      "[[10]\n",
      " [12]\n",
      " [14]\n",
      " [16]\n",
      " [18]]\n",
      "y: [[  0.47981179]\n",
      " [  2.91751337]\n",
      " [  5.3552146 ]\n",
      " [  7.7929163 ]\n",
      " [ 10.23061752]]\n",
      "y_: [[10]\n",
      " [12]\n",
      " [14]\n",
      " [16]\n",
      " [18]]\n",
      "cost: 75.115479\n",
      "After 16 iteration:\n",
      "W: 2.437701\n",
      "b: 0.479812\n",
      "[[5]\n",
      " [6]\n",
      " [7]\n",
      " [8]\n",
      " [9]]\n",
      "[[20]\n",
      " [22]\n",
      " [24]\n",
      " [26]\n",
      " [28]]\n",
      "y: [[ 13.1244173 ]\n",
      " [ 15.65075588]\n",
      " [ 18.17709351]\n",
      " [ 20.70343208]\n",
      " [ 23.22977066]]\n",
      "y_: [[20]\n",
      " [22]\n",
      " [24]\n",
      " [26]\n",
      " [28]]\n",
      "cost: 34.460300\n",
      "After 17 iteration:\n",
      "W: 2.526339\n",
      "b: 0.492724\n",
      "[[0]\n",
      " [1]\n",
      " [2]\n",
      " [3]\n",
      " [4]]\n",
      "[[10]\n",
      " [12]\n",
      " [14]\n",
      " [16]\n",
      " [18]]\n",
      "y: [[  0.50963354]\n",
      " [  3.06768513]\n",
      " [  5.62573671]\n",
      " [  8.1837883 ]\n",
      " [ 10.74184036]]\n",
      "y_: [[10]\n",
      " [12]\n",
      " [14]\n",
      " [16]\n",
      " [18]]\n",
      "cost: 70.751129\n",
      "After 18 iteration:\n",
      "W: 2.558052\n",
      "b: 0.509634\n",
      "[[5]\n",
      " [6]\n",
      " [7]\n",
      " [8]\n",
      " [9]]\n",
      "[[20]\n",
      " [22]\n",
      " [24]\n",
      " [26]\n",
      " [28]]\n",
      "y: [[ 13.69077873]\n",
      " [ 16.3247757 ]\n",
      " [ 18.95877075]\n",
      " [ 21.59276581]\n",
      " [ 24.22676086]]\n",
      "y_: [[20]\n",
      " [22]\n",
      " [24]\n",
      " [26]\n",
      " [28]]\n",
      "cost: 26.217897\n",
      "After 19 iteration:\n",
      "W: 2.633996\n",
      "b: 0.520802\n"
     ]
    }
   ],
   "source": [
    "for i in range(steps):\n",
    "    if datapoint_size == batch_size:\n",
    "        batch_start_idx = 0\n",
    "    elif datapoint_size < batch_size:\n",
    "        raise ValueError(\"datapoint_size: %d, must be greater than batch_size: %d\" % (datapoint_size, batch_size))\n",
    "    else:\n",
    "        batch_start_idx = (i * batch_size) % (datapoint_size - batch_size)\n",
    "        \n",
    "    batch_end_idx = batch_start_idx + batch_size\n",
    "    batch_xs = all_xs[batch_start_idx:batch_end_idx]\n",
    "    batch_ys = all_ys[batch_start_idx:batch_end_idx]\n",
    "    \n",
    "    xs = np.array(batch_xs)\n",
    "    ys = np.array(batch_ys)\n",
    "    \n",
    "    print(xs)\n",
    "    print(ys)\n",
    "    \n",
    "    # Record summary data, and the accuracy every 10 steps\n",
    "    if i % 10 == 0:\n",
    "        all_feed = { x: all_xs, y_: all_ys }\n",
    "        result = sess.run(merged, feed_dict=all_feed)\n",
    "        writer.add_summary(result, i)\n",
    "    else:\n",
    "        feed = { x: xs, y_: ys }\n",
    "        sess.run(train_step, feed_dict=feed)\n",
    "        print(\"y: %s\" % sess.run(y, feed_dict=feed))\n",
    "        print(\"y_: %s\" % ys)\n",
    "        print(\"cost: %f\" % sess.run(cost, feed_dict=feed))\n",
    "    \n",
    "    print(\"After %d iteration:\" % i)\n",
    "    print(\"W: %f\" % sess.run(W))\n",
    "    print(\"b: %f\" % sess.run(b))\n",
    "\n",
    "# NOTE: W should be close to actual_W, and b should be close to actual_b"
   ]
  },
  {
   "cell_type": "code",
   "execution_count": null,
   "metadata": {
    "collapsed": true
   },
   "outputs": [],
   "source": []
  }
 ],
 "metadata": {
  "kernelspec": {
   "display_name": "Python [conda env:py35]",
   "language": "python",
   "name": "conda-env-py35-py"
  },
  "language_info": {
   "codemirror_mode": {
    "name": "ipython",
    "version": 3
   },
   "file_extension": ".py",
   "mimetype": "text/x-python",
   "name": "python",
   "nbconvert_exporter": "python",
   "pygments_lexer": "ipython3",
   "version": "3.5.2"
  }
 },
 "nbformat": 4,
 "nbformat_minor": 2
}
